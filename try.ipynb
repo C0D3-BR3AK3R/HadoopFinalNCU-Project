{
 "cells": [
  {
   "cell_type": "code",
   "execution_count": 5,
   "metadata": {},
   "outputs": [],
   "source": [
    "from pyspark.ml.classification import NaiveBayes\n",
    "from pyspark.ml.classification import NaiveBayesModel\n",
    "from pyspark.sql import SparkSession\n",
    "\n",
    "import DataPrep\n",
    "\n",
    "spark = SparkSession.builder.master('local[*]').appName(\"ml_example\").getOrCreate()\n",
    "\n",
    "sc = spark.sparkContext\n",
    "\n",
    "dp = DataPrep.data_prepper()"
   ]
  },
  {
   "cell_type": "code",
   "execution_count": 6,
   "metadata": {},
   "outputs": [
    {
     "data": {
      "text/plain": [
       "1.0"
      ]
     },
     "execution_count": 6,
     "metadata": {},
     "output_type": "execute_result"
    }
   ],
   "source": [
    "spamModel = NaiveBayesModel.load('model/nbSpamFilter.model')\n",
    "text = \"#Hey guys! 123 Please join me in my fight🐯🐯🐯 to help abused/mistreated animals! All  fund will go to helping pay for vet bills/and or helping them find homes! I  will place an extra emphasis on helping disabled animals, ones otherwise  would just be put to sleep by other animal organizations. Donate please. http://www.gofundme.com/Angels-n-Wingz﻿ ROAAAAARRRRRR ﻿\"\n",
    "\n",
    "spamModel.predict(dp.clean_data(text))\n"
   ]
  }
 ],
 "metadata": {
  "kernelspec": {
   "display_name": "Python 3.10.5 64-bit (windows store)",
   "language": "python",
   "name": "python3"
  },
  "language_info": {
   "codemirror_mode": {
    "name": "ipython",
    "version": 3
   },
   "file_extension": ".py",
   "mimetype": "text/x-python",
   "name": "python",
   "nbconvert_exporter": "python",
   "pygments_lexer": "ipython3",
   "version": "3.10.5"
  },
  "orig_nbformat": 4,
  "vscode": {
   "interpreter": {
    "hash": "2f73e532cbd269d1026df71fd8a305c34d1349d3ece4a0a5c075e0ca7a6a1c7f"
   }
  }
 },
 "nbformat": 4,
 "nbformat_minor": 2
}
